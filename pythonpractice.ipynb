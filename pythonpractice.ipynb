{
 "cells": [
  {
   "cell_type": "code",
   "execution_count": 2,
   "id": "b9373158-7eeb-4a5b-a35b-9bb2ae9c008f",
   "metadata": {},
   "outputs": [],
   "source": [
    "counties=[\"Arapahoe\",\"Denver\",\"Jefferson\"]"
   ]
  },
  {
   "cell_type": "code",
   "execution_count": 8,
   "id": "a35aa0da-3190-42ad-8228-e8fb2a2b4bb2",
   "metadata": {},
   "outputs": [
    {
     "name": "stdout",
     "output_type": "stream",
     "text": [
      "Denver\n"
     ]
    }
   ],
   "source": [
    "if counties[1]=='Denver':\n",
    "    print(counties[1])"
   ]
  },
  {
   "cell_type": "code",
   "execution_count": 10,
   "id": "a0064f2a-a4cf-4d22-895e-1b41f34fd2b2",
   "metadata": {},
   "outputs": [
    {
     "ename": "IndexError",
     "evalue": "list index out of range",
     "output_type": "error",
     "traceback": [
      "\u001b[0;31m---------------------------------------------------------------------------\u001b[0m",
      "\u001b[0;31mIndexError\u001b[0m                                Traceback (most recent call last)",
      "Input \u001b[0;32mIn [10]\u001b[0m, in \u001b[0;36m<cell line: 1>\u001b[0;34m()\u001b[0m\n\u001b[0;32m----> 1\u001b[0m \u001b[38;5;28;01mif\u001b[39;00m \u001b[43mcounties\u001b[49m\u001b[43m[\u001b[49m\u001b[38;5;241;43m3\u001b[39;49m\u001b[43m]\u001b[49m \u001b[38;5;241m!=\u001b[39m\u001b[38;5;124m'\u001b[39m\u001b[38;5;124mJefferson\u001b[39m\u001b[38;5;124m'\u001b[39m:\n\u001b[1;32m      2\u001b[0m     \u001b[38;5;28mprint\u001b[39m(counties[\u001b[38;5;241m2\u001b[39m])\n",
      "\u001b[0;31mIndexError\u001b[0m: list index out of range"
     ]
    }
   ],
   "source": [
    "if counties[3] !='Jefferson':\n",
    "    print(counties[2])"
   ]
  },
  {
   "cell_type": "code",
   "execution_count": 11,
   "id": "61f0d00f-27e6-46f4-9a34-d12fbbeaeffd",
   "metadata": {},
   "outputs": [
    {
     "name": "stdin",
     "output_type": "stream",
     "text": [
      "What is the temperature outside? 76\n"
     ]
    }
   ],
   "source": [
    "temperature=int(input(\"What is the temperature outside?\"))"
   ]
  },
  {
   "cell_type": "code",
   "execution_count": 12,
   "id": "6f850a1b-3c80-4432-9cff-fe43c3b93bfa",
   "metadata": {},
   "outputs": [
    {
     "name": "stdout",
     "output_type": "stream",
     "text": [
      "Open the windows.\n"
     ]
    }
   ],
   "source": [
    "if temperature>80:\n",
    "    print(\"Turn on AC.\")\n",
    "else:\n",
    "    print(\"Open the windows.\")"
   ]
  },
  {
   "cell_type": "code",
   "execution_count": 21,
   "id": "d16183a8-d4a4-43c5-8e91-5f6e617deb8d",
   "metadata": {},
   "outputs": [],
   "source": [
    "#What is the score?"
   ]
  },
  {
   "cell_type": "code",
   "execution_count": 22,
   "id": "2b96d219-654a-4344-84c1-794bfb5f750b",
   "metadata": {},
   "outputs": [
    {
     "name": "stdin",
     "output_type": "stream",
     "text": [
      "What is your test score? 78\n"
     ]
    }
   ],
   "source": [
    "score=int(input(\"What is your test score?\"))"
   ]
  },
  {
   "cell_type": "code",
   "execution_count": 23,
   "id": "29231107-aa05-4b25-b4d3-c0ddb6d247a9",
   "metadata": {},
   "outputs": [
    {
     "name": "stdout",
     "output_type": "stream",
     "text": [
      "Your grade is a C.\n"
     ]
    }
   ],
   "source": [
    "if score >= 90:\n",
    "    print('Your grade u=is an A.')\n",
    "else:\n",
    "    if score >= 80:\n",
    "        print('Your grade is a B.')\n",
    "    else:\n",
    "        if score >= 70:\n",
    "            print('Your grade is a C.')\n",
    "        else:\n",
    "            if score >= 60:\n",
    "                print('Your grade is a D.')\n",
    "            else:\n",
    "                print('Your grade is an F.')"
   ]
  },
  {
   "cell_type": "code",
   "execution_count": 24,
   "id": "7735eb61-f4e1-437d-bb19-d2c591ba5433",
   "metadata": {},
   "outputs": [
    {
     "name": "stdin",
     "output_type": "stream",
     "text": [
      "What is your test score?  98\n"
     ]
    }
   ],
   "source": [
    "# What is the score?\n",
    "score = int(input(\"What is your test score? \"))"
   ]
  },
  {
   "cell_type": "code",
   "execution_count": 25,
   "id": "14238190-173f-49b8-8c6c-70f7e5187ab2",
   "metadata": {},
   "outputs": [
    {
     "name": "stdout",
     "output_type": "stream",
     "text": [
      "Your grade is an A.\n"
     ]
    }
   ],
   "source": [
    "# Determine the grade.\n",
    "if score >= 90:\n",
    "    print('Your grade is an A.')\n",
    "elif score >= 80:\n",
    "    print('Your grade is a B.')\n",
    "elif score >= 70:\n",
    "    print('Your grade is a C.')\n",
    "elif score >= 60:\n",
    "    print('Your grade is a D.')\n",
    "else:\n",
    "    print('Your grade is an F.')"
   ]
  },
  {
   "cell_type": "code",
   "execution_count": 26,
   "id": "1a6cccf2-d6fd-40a6-8134-e06ae19fbd57",
   "metadata": {},
   "outputs": [
    {
     "data": {
      "text/plain": [
       "['Arapahoe', 'Denver', 'Jefferson']"
      ]
     },
     "execution_count": 26,
     "metadata": {},
     "output_type": "execute_result"
    }
   ],
   "source": [
    "counties"
   ]
  },
  {
   "cell_type": "code",
   "execution_count": 27,
   "id": "7de2796b-7420-4c2a-b07f-94134b85143a",
   "metadata": {},
   "outputs": [
    {
     "name": "stdout",
     "output_type": "stream",
     "text": [
      "El Paso is not the list of counties.\n"
     ]
    }
   ],
   "source": [
    "counties = [\"Arapahoe\",\"Denver\",\"Jefferson\"]\n",
    "if \"El Paso\" in counties:\n",
    "    print(\"El Paso is in the list of counties.\")\n",
    "else:\n",
    "    print(\"El Paso is not the list of counties.\")"
   ]
  },
  {
   "cell_type": "code",
   "execution_count": 28,
   "id": "40cba91c-ef98-4ca0-abff-9e0f53b00a1a",
   "metadata": {},
   "outputs": [
    {
     "name": "stdout",
     "output_type": "stream",
     "text": [
      "Arapahoe or El Paso is not in the list of counties.\n"
     ]
    }
   ],
   "source": [
    "if \"Arapahoe\" in counties and \"El Paso\" in counties:\n",
    "    print(\"Arapahoe and El Paso are in the list of counties.\")\n",
    "else:\n",
    "    print(\"Arapahoe or El Paso is not in the list of counties.\")"
   ]
  },
  {
   "cell_type": "code",
   "execution_count": 29,
   "id": "c9e0414b-dd8a-4273-9a87-6d6520bd8515",
   "metadata": {},
   "outputs": [
    {
     "name": "stdout",
     "output_type": "stream",
     "text": [
      "Arapahoe or El Paso is in the list of counties.\n"
     ]
    }
   ],
   "source": [
    "if \"Arapahoe\" in counties or \"El Paso\" in counties:\n",
    "    print(\"Arapahoe or El Paso is in the list of counties.\")\n",
    "else:\n",
    "    print(\"Arapahoe and El Paso are not in the list of counties.\")"
   ]
  },
  {
   "cell_type": "code",
   "execution_count": 30,
   "id": "0a26581b-f48c-45d3-9653-dc7dae8ce25f",
   "metadata": {},
   "outputs": [
    {
     "name": "stdout",
     "output_type": "stream",
     "text": [
      "Only Arapahoe is in the list of counties.\n"
     ]
    }
   ],
   "source": [
    "if \"Arapahoe\" in counties and \"El Paso\" not in counties:\n",
    "   print(\"Only Arapahoe is in the list of counties.\")\n",
    "else:\n",
    "    print(\"Arapahoe is in the list of counties and El Paso is not in the list of counties.\")"
   ]
  },
  {
   "cell_type": "code",
   "execution_count": 31,
   "id": "a33fcc47-1c1e-439e-941f-9deeba2823c7",
   "metadata": {},
   "outputs": [
    {
     "name": "stdout",
     "output_type": "stream",
     "text": [
      "0\n",
      "1\n",
      "2\n",
      "3\n",
      "4\n",
      "5\n"
     ]
    }
   ],
   "source": [
    "x=0\n",
    "while x <= 5:\n",
    "    print(x)\n",
    "    x = x + 1"
   ]
  },
  {
   "cell_type": "code",
   "execution_count": 33,
   "id": "c1f9de48-e292-4583-884a-aab02fba112f",
   "metadata": {},
   "outputs": [],
   "source": [
    "count = 7\n",
    "while count < 1:\n",
    "    print(\"Hello World\")"
   ]
  },
  {
   "cell_type": "code",
   "execution_count": 34,
   "id": "2a678d8b-47c5-426e-b911-9ea422d91a31",
   "metadata": {},
   "outputs": [
    {
     "name": "stdout",
     "output_type": "stream",
     "text": [
      "Arapahoe\n",
      "Denver\n",
      "Jefferson\n"
     ]
    }
   ],
   "source": [
    "for county in counties:\n",
    "    print(county)"
   ]
  },
  {
   "cell_type": "code",
   "execution_count": 35,
   "id": "437bb578-ecc3-4cb6-ae5d-9aecf096af41",
   "metadata": {},
   "outputs": [
    {
     "name": "stdout",
     "output_type": "stream",
     "text": [
      "0\n",
      "1\n",
      "2\n",
      "3\n",
      "4\n"
     ]
    }
   ],
   "source": [
    "numbers = [0, 1, 2, 3, 4]\n",
    "for num in numbers:\n",
    "    print(num)"
   ]
  },
  {
   "cell_type": "code",
   "execution_count": 36,
   "id": "1eab3bb6-4630-46db-8af4-c9fc83e1821a",
   "metadata": {},
   "outputs": [
    {
     "name": "stdout",
     "output_type": "stream",
     "text": [
      "0\n",
      "1\n",
      "2\n",
      "3\n",
      "4\n"
     ]
    }
   ],
   "source": [
    "for num in range(5):\n",
    "    print(num)"
   ]
  },
  {
   "cell_type": "code",
   "execution_count": 37,
   "id": "b1c425d2-7337-44de-b145-867b10833e71",
   "metadata": {},
   "outputs": [
    {
     "name": "stdout",
     "output_type": "stream",
     "text": [
      "Arapahoe\n",
      "Denver\n",
      "Jefferson\n"
     ]
    }
   ],
   "source": [
    "for i in range(len(counties)):\n",
    "    print(counties[i])"
   ]
  },
  {
   "cell_type": "code",
   "execution_count": 38,
   "id": "cb4652e5-97cf-4fbd-9a1c-0c765614fca4",
   "metadata": {},
   "outputs": [],
   "source": [
    "counties_tuple = (\"Arapahoe\",\"Denver\",\"Jefferson\")"
   ]
  },
  {
   "cell_type": "code",
   "execution_count": 43,
   "id": "92e66c3c-b446-47e3-b948-de4f8fdf1b77",
   "metadata": {},
   "outputs": [
    {
     "data": {
      "text/plain": [
       "('Arapahoe', 'Denver', 'Jefferson')"
      ]
     },
     "execution_count": 43,
     "metadata": {},
     "output_type": "execute_result"
    }
   ],
   "source": [
    "counties_tuple"
   ]
  },
  {
   "cell_type": "code",
   "execution_count": 44,
   "id": "05159b59-ce93-4db8-8c98-f36e50b849a0",
   "metadata": {},
   "outputs": [
    {
     "name": "stdout",
     "output_type": "stream",
     "text": [
      "Arapahoe\n",
      "Denver\n",
      "Jefferson\n"
     ]
    }
   ],
   "source": [
    "for i in range(len(counties_tuple)):\n",
    "    print(counties_tuple[i])"
   ]
  },
  {
   "cell_type": "code",
   "execution_count": 46,
   "id": "51607471-958f-4663-b256-00dae50b08ad",
   "metadata": {},
   "outputs": [
    {
     "name": "stdout",
     "output_type": "stream",
     "text": [
      "Arapahoe\n",
      "Denver\n",
      "Jefferson\n"
     ]
    }
   ],
   "source": [
    "for county in counties_tuple:\n",
    "\n",
    "      print(county)"
   ]
  },
  {
   "cell_type": "code",
   "execution_count": 47,
   "id": "c4c64d57-be1a-4776-97fe-cff06522c067",
   "metadata": {},
   "outputs": [
    {
     "name": "stdout",
     "output_type": "stream",
     "text": [
      "['Arapahoe', 'Denver', 'Jefferson']\n",
      "['Arapahoe', 'Denver', 'Jefferson']\n",
      "['Arapahoe', 'Denver', 'Jefferson']\n"
     ]
    }
   ],
   "source": [
    "for county in counties_tuple:\n",
    "\n",
    "      print(counties)"
   ]
  },
  {
   "cell_type": "code",
   "execution_count": 48,
   "id": "7536e7c0-4052-4def-bf8f-a72de89b1f1c",
   "metadata": {},
   "outputs": [],
   "source": [
    "counties_dict = {\"Arapahoe\": 422829, \"Denver\": 463353, \"Jefferson\": 432438}"
   ]
  },
  {
   "cell_type": "code",
   "execution_count": 49,
   "id": "325e240a-70b2-41c4-a781-d721281c13e0",
   "metadata": {},
   "outputs": [
    {
     "data": {
      "text/plain": [
       "{'Arapahoe': 422829, 'Denver': 463353, 'Jefferson': 432438}"
      ]
     },
     "execution_count": 49,
     "metadata": {},
     "output_type": "execute_result"
    }
   ],
   "source": [
    "counties_dict"
   ]
  },
  {
   "cell_type": "code",
   "execution_count": 50,
   "id": "8c7d82c6-326f-49c6-906b-e28f864b5922",
   "metadata": {},
   "outputs": [
    {
     "name": "stdout",
     "output_type": "stream",
     "text": [
      "Arapahoe\n",
      "Denver\n",
      "Jefferson\n"
     ]
    }
   ],
   "source": [
    "for county in counties_dict:\n",
    "    print(county)"
   ]
  },
  {
   "cell_type": "code",
   "execution_count": 51,
   "id": "2e4f3b4b-8f36-4650-af05-7f6cd4fd6821",
   "metadata": {},
   "outputs": [
    {
     "name": "stdout",
     "output_type": "stream",
     "text": [
      "Arapahoe\n",
      "Denver\n",
      "Jefferson\n"
     ]
    }
   ],
   "source": [
    "for county in counties_dict.keys():\n",
    "    print(county)"
   ]
  },
  {
   "cell_type": "code",
   "execution_count": 52,
   "id": "a7b484a8-bde1-44a8-a190-3ca043b585ce",
   "metadata": {},
   "outputs": [
    {
     "name": "stdout",
     "output_type": "stream",
     "text": [
      "422829\n",
      "463353\n",
      "432438\n"
     ]
    }
   ],
   "source": [
    "for voters in counties_dict.values():\n",
    "    print(voters)"
   ]
  },
  {
   "cell_type": "code",
   "execution_count": 53,
   "id": "931f6312-614e-452c-9d73-6377900465c8",
   "metadata": {},
   "outputs": [
    {
     "name": "stdout",
     "output_type": "stream",
     "text": [
      "422829\n",
      "463353\n",
      "432438\n"
     ]
    }
   ],
   "source": [
    "for county in counties_dict:\n",
    "    print(counties_dict[county])"
   ]
  },
  {
   "cell_type": "code",
   "execution_count": 54,
   "id": "297d7e31-572d-4f2f-9db2-1191b757406b",
   "metadata": {},
   "outputs": [
    {
     "name": "stdout",
     "output_type": "stream",
     "text": [
      "422829\n",
      "463353\n",
      "432438\n"
     ]
    }
   ],
   "source": [
    "for county in counties_dict:\n",
    "    print(counties_dict.get(county))"
   ]
  },
  {
   "cell_type": "code",
   "execution_count": 57,
   "id": "5495c708-7416-4b4a-bf43-9bc95cb427f3",
   "metadata": {},
   "outputs": [
    {
     "name": "stdout",
     "output_type": "stream",
     "text": [
      "Arapahoe 422829\n",
      "Denver 463353\n",
      "Jefferson 432438\n"
     ]
    }
   ],
   "source": [
    "for county, voters in counties_dict.items():\n",
    "    print(county, voters)"
   ]
  },
  {
   "cell_type": "code",
   "execution_count": 59,
   "id": "057d3bba-cbe4-4758-a2e1-a729cde54085",
   "metadata": {},
   "outputs": [],
   "source": [
    "voting_data = [{\"county\":\"Arapahoe\", \"registered_voters\": 422829},\n",
    "                {\"county\":\"Denver\", \"registered_voters\": 463353},\n",
    "                {\"county\":\"Jefferson\", \"registered_voters\": 432438}]"
   ]
  },
  {
   "cell_type": "code",
   "execution_count": 60,
   "id": "f2b9f45e-98df-41e3-b9e0-57bb99d6f87d",
   "metadata": {},
   "outputs": [
    {
     "data": {
      "text/plain": [
       "[{'county': 'Arapahoe', 'registered_voters': 422829},\n",
       " {'county': 'Denver', 'registered_voters': 463353},\n",
       " {'county': 'Jefferson', 'registered_voters': 432438}]"
      ]
     },
     "execution_count": 60,
     "metadata": {},
     "output_type": "execute_result"
    }
   ],
   "source": [
    "voting_data"
   ]
  },
  {
   "cell_type": "code",
   "execution_count": 61,
   "id": "df44fd5c-4e76-4001-ac4c-b5ff96038e82",
   "metadata": {},
   "outputs": [
    {
     "name": "stdout",
     "output_type": "stream",
     "text": [
      "{'county': 'Arapahoe', 'registered_voters': 422829}\n",
      "{'county': 'Denver', 'registered_voters': 463353}\n",
      "{'county': 'Jefferson', 'registered_voters': 432438}\n"
     ]
    }
   ],
   "source": [
    "for county_dict in voting_data:\n",
    "    print(county_dict)"
   ]
  },
  {
   "cell_type": "code",
   "execution_count": 64,
   "id": "0ad9da2b-5af7-40be-8dab-b79d81843c86",
   "metadata": {},
   "outputs": [
    {
     "name": "stdout",
     "output_type": "stream",
     "text": [
      "Arapahoe\n",
      "Denver\n",
      "Jefferson\n"
     ]
    }
   ],
   "source": [
    "for i in range(len(voting_data)):\n",
    "\n",
    "      print(voting_data[i]['county'])"
   ]
  },
  {
   "cell_type": "code",
   "execution_count": 66,
   "id": "b6934f77-1b89-4343-a07a-e71cb07d2ba2",
   "metadata": {},
   "outputs": [
    {
     "name": "stdout",
     "output_type": "stream",
     "text": [
      "Arapahoe\n",
      "422829\n",
      "Denver\n",
      "463353\n",
      "Jefferson\n",
      "432438\n"
     ]
    }
   ],
   "source": [
    "for county_dict in voting_data:\n",
    "    for value in county_dict.values():\n",
    "        print(value)"
   ]
  },
  {
   "cell_type": "code",
   "execution_count": 67,
   "id": "be69fb6f-27e1-43c4-8b0e-8b839ec236a6",
   "metadata": {},
   "outputs": [
    {
     "name": "stdout",
     "output_type": "stream",
     "text": [
      "dict_values(['Arapahoe', 422829])\n",
      "dict_values(['Denver', 463353])\n",
      "dict_values(['Jefferson', 432438])\n"
     ]
    }
   ],
   "source": [
    "for county_dict in voting_data:  \n",
    "\n",
    "     print(county_dict.values())"
   ]
  },
  {
   "cell_type": "code",
   "execution_count": 69,
   "id": "ee057910-9a52-46c0-84ca-3429ac620ef5",
   "metadata": {},
   "outputs": [
    {
     "name": "stdout",
     "output_type": "stream",
     "text": [
      "422829\n",
      "463353\n",
      "432438\n"
     ]
    }
   ],
   "source": [
    "for county_dict in voting_data:\n",
    "\n",
    "     print(county_dict['registered_voters'])"
   ]
  },
  {
   "cell_type": "code",
   "execution_count": 70,
   "id": "31e54f57-38c7-4d62-9b61-19b6efef35be",
   "metadata": {},
   "outputs": [
    {
     "name": "stdout",
     "output_type": "stream",
     "text": [
      "Arapahoe\n",
      "422829\n",
      "Denver\n",
      "463353\n",
      "Jefferson\n",
      "432438\n"
     ]
    }
   ],
   "source": [
    "for county_dict in voting_data:\n",
    "\n",
    "     for key, value in county_dict.items():\n",
    "\n",
    "         print(value)"
   ]
  },
  {
   "cell_type": "code",
   "execution_count": 71,
   "id": "f336c952-6402-4797-8071-918725ba02f3",
   "metadata": {},
   "outputs": [
    {
     "name": "stdout",
     "output_type": "stream",
     "text": [
      "Arapahoe\n",
      "Denver\n",
      "Jefferson\n"
     ]
    }
   ],
   "source": [
    "for county_dict in voting_data:\n",
    "    print(county_dict['county'])"
   ]
  },
  {
   "cell_type": "code",
   "execution_count": 72,
   "id": "ce5011b3-3858-44e1-a946-dc4479dc4316",
   "metadata": {},
   "outputs": [
    {
     "name": "stdin",
     "output_type": "stream",
     "text": [
      "How many votes did you get in the election?  50\n",
      "What is the total votes in the election?  100\n"
     ]
    },
    {
     "name": "stdout",
     "output_type": "stream",
     "text": [
      "I received 50.0% of the total votes.\n"
     ]
    }
   ],
   "source": [
    "my_votes = int(input(\"How many votes did you get in the election? \"))\n",
    "total_votes = int(input(\"What is the total votes in the election? \"))\n",
    "percentage_votes = (my_votes / total_votes) * 100\n",
    "print(\"I received \" + str(percentage_votes)+\"% of the total votes.\")"
   ]
  },
  {
   "cell_type": "code",
   "execution_count": 76,
   "id": "549e08a3-ec39-4ca9-9417-b5fca499724a",
   "metadata": {},
   "outputs": [
    {
     "name": "stdin",
     "output_type": "stream",
     "text": [
      "How many votes did you get in the election? 76\n",
      "What is the total votes in the election?  100\n"
     ]
    },
    {
     "name": "stdout",
     "output_type": "stream",
     "text": [
      "I received 76.0% of the total votes.\n"
     ]
    }
   ],
   "source": [
    "my_votes=int(input(\"How many votes did you get in the election?\"))\n",
    "total_votes = int(input(\"What is the total votes in the election? \"))\n",
    "print(f\"I received {my_votes / total_votes * 100}% of the total votes.\")"
   ]
  },
  {
   "cell_type": "code",
   "execution_count": 86,
   "id": "7b281c5d-dc9c-4b3f-995b-a0b8a811a9ee",
   "metadata": {},
   "outputs": [
    {
     "name": "stdout",
     "output_type": "stream",
     "text": [
      "Arapahoe county has 369237 registered voters.\n",
      "Denver county has 413229 registered voters.\n",
      "Jefferson county has 390222 registered voters.\n"
     ]
    }
   ],
   "source": [
    "for county, voters in counties_dict.items():\n",
    "    print(county+ \" county has \" + str(voters)+\" registered voters.\")"
   ]
  },
  {
   "cell_type": "code",
   "execution_count": 87,
   "id": "e3861eeb-cd0e-4a09-a566-e3511601fa4b",
   "metadata": {},
   "outputs": [
    {
     "name": "stdout",
     "output_type": "stream",
     "text": [
      "Arapahoe county has 369237 registered voters.\n",
      "Denver county has 413229 registered voters.\n",
      "Jefferson county has 390222 registered voters.\n"
     ]
    }
   ],
   "source": [
    "for county, voters in counties_dict.items():\n",
    "    print(f\"{county} county has {voters} registered voters.\")"
   ]
  },
  {
   "cell_type": "code",
   "execution_count": 88,
   "id": "60aa2f48-8040-421b-b18a-cb0b03199186",
   "metadata": {},
   "outputs": [
    {
     "name": "stdin",
     "output_type": "stream",
     "text": [
      "How many votes did the candidate get in the election?  92\n",
      "What is the total number of votes in the election?  190\n"
     ]
    },
    {
     "name": "stdout",
     "output_type": "stream",
     "text": [
      "You received 92 number of votes. The total number of votes in the election was 190. You received 48.421052631578945% of the total votes.\n"
     ]
    }
   ],
   "source": [
    "candidate_votes = int(input(\"How many votes did the candidate get in the election? \"))\n",
    "total_votes = int(input(\"What is the total number of votes in the election? \"))\n",
    "message_to_candidate = (\n",
    "    f\"You received {candidate_votes} number of votes. \"\n",
    "    f\"The total number of votes in the election was {total_votes}. \"\n",
    "    f\"You received {candidate_votes / total_votes * 100}% of the total votes.\")\n",
    "\n",
    "print(message_to_candidate)\n"
   ]
  },
  {
   "cell_type": "code",
   "execution_count": 101,
   "id": "3802033f-d026-4dbc-a75c-02c174883c2b",
   "metadata": {},
   "outputs": [
    {
     "name": "stdout",
     "output_type": "stream",
     "text": [
      "You received                                                                                           92 number of votes. The total number of votes in the election was                                                                                                                                                                                            190. You received 48.42% of the total votes.\n"
     ]
    }
   ],
   "source": [
    "message_to_candidate = (\n",
    "    f\"You received {candidate_votes:92,} number of votes. \"\n",
    "    f\"The total number of votes in the election was {total_votes:190,}. \"\n",
    "    f\"You received {candidate_votes / total_votes * 100:.2f}% of the total votes.\")\n",
    "print(message_to_candidate)"
   ]
  },
  {
   "cell_type": "code",
   "execution_count": null,
   "id": "0b75914a-ffef-4999-a918-2c9d079d0f53",
   "metadata": {},
   "outputs": [],
   "source": [
    "message_to_candidate = (\n",
    "    f\"{county} has {voters} registered voters. \"\n",
    "    f\"The total number of votes in the election was {total_votes:190,}. \"\n",
    "    f\"You received {candidate_votes / total_votes * 100:.2f}% of the total votes.\")\n",
    "print(message_to_candidate)"
   ]
  }
 ],
 "metadata": {
  "kernelspec": {
   "display_name": "Python 3 (ipykernel)",
   "language": "python",
   "name": "python3"
  },
  "language_info": {
   "codemirror_mode": {
    "name": "ipython",
    "version": 3
   },
   "file_extension": ".py",
   "mimetype": "text/x-python",
   "name": "python",
   "nbconvert_exporter": "python",
   "pygments_lexer": "ipython3",
   "version": "3.9.12"
  }
 },
 "nbformat": 4,
 "nbformat_minor": 5
}
